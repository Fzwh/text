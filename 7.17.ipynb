{
 "cells": [
  {
   "cell_type": "markdown",
   "metadata": {},
   "source": [
    "# 数学函数、字符串和对象\n",
    "## 本章介绍Python函数来执行常见的数学运算\n",
    "- 函数是完成一个特殊任务的一组语句，可以理解为一个函数相当于一个小功能，但是在开发中，需要注意一个函数的长度最好不要超过一屏\n",
    "- Python中的内置函数是不需要Import导入的\n",
    "<img src=\"../Photo/15.png\"></img>"
   ]
  },
  {
   "cell_type": "code",
   "execution_count": 9,
   "metadata": {},
   "outputs": [
    {
     "name": "stdout",
     "output_type": "stream",
     "text": [
      "请输入三个数字1,2,3\n",
      "请选择你要执行的方式：max，min，pow2_summax\n",
      "3\n"
     ]
    }
   ],
   "source": [
    "x,y,z=eval(input('请输入三个数字'))\n",
    "choose_method=input('请选择你要执行的方式：max，min，pow2_sum')\n",
    "if choose_method =='max':\n",
    "           max_=max(x,y,z)\n",
    "           print(max_)\n",
    "elif choose_method =='min':\n",
    "           min_=min(x,y,z)\n",
    "           print(min_)\n",
    "elif choose_method =='pow2_sum':\n",
    "           pow_sum_=(x,2)+(y,2)+(z,2)\n",
    "           print(pow_sum_)"
   ]
  },
  {
   "cell_type": "markdown",
   "metadata": {},
   "source": [
    "## 尝试练习Python内置函数"
   ]
  },
  {
   "cell_type": "markdown",
   "metadata": {},
   "source": [
    "## Python中的math模块提供了许多数学函数\n",
    "<img src=\"../Photo/16.png\"></img>\n",
    "<img src=\"../Photo/17.png\"></img>\n"
   ]
  },
  {
   "cell_type": "code",
   "execution_count": 13,
   "metadata": {},
   "outputs": [
    {
     "ename": "NameError",
     "evalue": "name 'math' is not defined",
     "output_type": "error",
     "traceback": [
      "\u001b[1;31m---------------------------------------------------------------------------\u001b[0m",
      "\u001b[1;31mNameError\u001b[0m                                 Traceback (most recent call last)",
      "\u001b[1;32m<ipython-input-13-66501041ee7e>\u001b[0m in \u001b[0;36m<module>\u001b[1;34m()\u001b[0m\n\u001b[0;32m      1\u001b[0m \u001b[1;32mimport\u001b[0m \u001b[0mrandom\u001b[0m\u001b[1;33m\u001b[0m\u001b[0m\n\u001b[0;32m      2\u001b[0m \u001b[0mrandom_num\u001b[0m\u001b[1;33m=\u001b[0m\u001b[0mrandom\u001b[0m\u001b[1;33m.\u001b[0m\u001b[0mrandom\u001b[0m\u001b[1;33m(\u001b[0m\u001b[1;33m)\u001b[0m\u001b[1;33m/\u001b[0m\u001b[1;36m5000\u001b[0m\u001b[1;33m\u001b[0m\u001b[0m\n\u001b[1;32m----> 3\u001b[1;33m \u001b[0mres\u001b[0m\u001b[1;33m=\u001b[0m\u001b[1;36m1.\u001b[0m\u001b[1;33m/\u001b[0m\u001b[1;33m(\u001b[0m\u001b[1;36m1.\u001b[0m\u001b[1;33m+\u001b[0m\u001b[0mmath\u001b[0m\u001b[1;33m.\u001b[0m\u001b[0mexp\u001b[0m\u001b[1;33m(\u001b[0m\u001b[1;33m-\u001b[0m\u001b[0mrandom_num\u001b[0m\u001b[1;33m)\u001b[0m\u001b[1;33m)\u001b[0m\u001b[1;33m\u001b[0m\u001b[0m\n\u001b[0m\u001b[0;32m      4\u001b[0m \u001b[0mres\u001b[0m\u001b[1;33m\u001b[0m\u001b[0m\n",
      "\u001b[1;31mNameError\u001b[0m: name 'math' is not defined"
     ]
    }
   ],
   "source": [
    "import random\n",
    "random_num=random.random()/5000\n",
    "res=1./(1.+ math.exp(-random_num))\n",
    "res"
   ]
  },
  {
   "cell_type": "markdown",
   "metadata": {},
   "source": [
    "## 两个数学常量PI和e，可以通过使用math.pi 和math.e调用"
   ]
  },
  {
   "cell_type": "markdown",
   "metadata": {},
   "source": [
    "## EP:\n",
    "- 通过math库，写一个程序，使得用户输入三个顶点(x,y)返回三个角度\n",
    "- 注意：Python计算角度为弧度制，需要将其转换为角度\n",
    "<img src=\"../Photo/18.png\">"
   ]
  },
  {
   "cell_type": "markdown",
   "metadata": {},
   "source": [
    "## 字符串和字符\n",
    "- 在Python中，字符串必须是在单引号或者双引号内，在多段换行的字符串中可以使用“”“\n",
    "- 在使用”“”时，给予其变量则变为字符串，否则当多行注释使用"
   ]
  },
  {
   "cell_type": "markdown",
   "metadata": {},
   "source": [
    "## ASCII码与Unicode码\n",
    "- <img src=\"../Photo/19.png\"></img>\n",
    "- <img src=\"../Photo/20.png\"></img>\n",
    "- <img src=\"../Photo/21.png\"></img>"
   ]
  },
  {
   "cell_type": "markdown",
   "metadata": {},
   "source": [
    "## 函数ord、chr\n",
    "- ord 返回ASCII码值\n",
    "- chr 返回字符"
   ]
  },
  {
   "cell_type": "code",
   "execution_count": 20,
   "metadata": {},
   "outputs": [
    {
     "name": "stdout",
     "output_type": "stream",
     "text": [
      "H\n",
      "HI\n",
      "HIB\n",
      "HIBA\n",
      "HIBAH\n",
      "HIBAHE\n",
      "HIBAHEB\n",
      "HIBAHEBD\n",
      "HIBAHEBDA\n",
      "HIBAHEBDAP\n",
      "HIBAHEBDAP\n",
      "HIBAHEBDAP\n",
      "HIBAHEBDAP>\n",
      "HIBAHEBDAP>s\n",
      "HIBAHEBDAP>s\n",
      "HIBAHEBDAP>s}\n"
     ]
    }
   ],
   "source": [
    "title='892185241@qq.com'\n",
    "result=''\n",
    "for i in title:\n",
    "    result=result+chr(ord(i)+16)\n",
    "    print(result)"
   ]
  },
  {
   "cell_type": "markdown",
   "metadata": {},
   "source": [
    "## EP:\n",
    "- 利用ord与chr进行简单邮箱加密"
   ]
  },
  {
   "cell_type": "code",
   "execution_count": null,
   "metadata": {},
   "outputs": [],
   "source": [
    "dataset=''\n",
    "input()   MD5....\n",
    "if==\n",
    "else:"
   ]
  },
  {
   "cell_type": "markdown",
   "metadata": {},
   "source": [
    "## 转义序列 \\\n",
    "- a = \"He said,\"Johon's program is easy to read\"\n",
    "- 转掉它原来的意思\n",
    "- 一般情况下只有当语句与默认方法相撞的时候，就需要转义"
   ]
  },
  {
   "cell_type": "markdown",
   "metadata": {},
   "source": [
    "## 高级print\n",
    "- 参数 end： 以什么方式结束打印\n",
    "- 默认换行打印"
   ]
  },
  {
   "cell_type": "markdown",
   "metadata": {},
   "source": [
    "## 函数str\n",
    "- 将类型强制转换成字符串类型\n",
    "- 其他一些以后会学到(list,set,tuple...)"
   ]
  },
  {
   "cell_type": "markdown",
   "metadata": {},
   "source": [
    "## 字符串连接操作\n",
    "- 直接使用 “+” \n",
    "- join() 函数 "
   ]
  },
  {
   "cell_type": "markdown",
   "metadata": {},
   "source": [
    "## EP：\n",
    "- 将 “Welcome” “to” \"Python\" 拼接\n",
    "- 将int型 100 与 “joker is a bad man” 拼接\n",
    "- 从控制台读取字符串\n",
    "> 输入一个名字返回夸奖此人"
   ]
  },
  {
   "cell_type": "markdown",
   "metadata": {},
   "source": [
    "## 实例研究：最小数量硬币\n",
    "- 开发一个程序，让用户输入总金额，这是一个用美元和美分表示的浮点值，返回一个由美元、两角五分的硬币、一角的硬币、五分硬币、以及美分个数\n",
    "<img src=\"../Photo/22.png\"></img>"
   ]
  },
  {
   "cell_type": "markdown",
   "metadata": {},
   "source": [
    "- Python弱项，对于浮点型的处理并不是很好，但是处理数据的时候使用的是Numpy类型\n",
    "<img src=\"../Photo/23.png\"></img>"
   ]
  },
  {
   "cell_type": "markdown",
   "metadata": {},
   "source": [
    "## id与type\n",
    "- id 查看内存地址，在判断语句中将会使用\n",
    "- type 查看元素类型"
   ]
  },
  {
   "cell_type": "markdown",
   "metadata": {},
   "source": [
    "## 其他格式化语句见书"
   ]
  },
  {
   "cell_type": "markdown",
   "metadata": {},
   "source": [
    "# Homework\n",
    "- 1\n",
    "<img src=\"../Photo/24.png\"><img>\n",
    "<img src=\"../Photo/25.png\"><img>"
   ]
  },
  {
   "cell_type": "code",
   "execution_count": 22,
   "metadata": {},
   "outputs": [
    {
     "name": "stdout",
     "output_type": "stream",
     "text": [
      "请输入五边形顶点到中心的距离：5.5\n",
      "五边形的面积是：71.92\n"
     ]
    }
   ],
   "source": [
    "import math\n",
    "r=eval(input('请输入五边形顶点到中心的距离：'))\n",
    "s=2*r*(math.sin(math.pi/5))\n",
    "area=5*s*s/(4*(math.tan(math.pi/5)))\n",
    "print('五边形的面积是：'+str(round(area,2)))"
   ]
  },
  {
   "cell_type": "markdown",
   "metadata": {},
   "source": [
    "- 2\n",
    "<img src=\"../Photo/26.png\"><img>"
   ]
  },
  {
   "cell_type": "code",
   "execution_count": 25,
   "metadata": {},
   "outputs": [
    {
     "name": "stdout",
     "output_type": "stream",
     "text": [
      "请输入第一个点的经度39.55,-116.25\n",
      "请输入第一个点的纬度41.5,87.37\n",
      "两点之间的大圆距离是：10691.79183231593\n"
     ]
    }
   ],
   "source": [
    "x1,y1=eval(input('请输入第一个点的经度'))\n",
    "x2,y2=eval(input('请输入第一个点的纬度'))\n",
    "note1=math.sin(math.radians(x1))*math.sin(math.radians(x2))\n",
    "note2=math.cos(math.radians(x1))*math.cos(math.radians(x2))*math.cos(math.radians(y1-y2))\n",
    "note3=math.acos(note1+note2)\n",
    "d=6371.01*note3\n",
    "print('两点之间的大圆距离是：'+str(d))"
   ]
  },
  {
   "cell_type": "markdown",
   "metadata": {},
   "source": [
    "- 3\n",
    "<img src=\"../Photo/27.png\"><img>"
   ]
  },
  {
   "cell_type": "code",
   "execution_count": 28,
   "metadata": {},
   "outputs": [
    {
     "name": "stdout",
     "output_type": "stream",
     "text": [
      "请输入五边形的边长5.5\n",
      "五边形的面积是：52.044441367816255\n"
     ]
    }
   ],
   "source": [
    "s=eval(input('请输入五边形的边长'))\n",
    "Area=(5*s*s)/(4*(math.tan(math.pi/5)))\n",
    "print('五边形的面积是：'+str(Area))\n"
   ]
  },
  {
   "cell_type": "markdown",
   "metadata": {},
   "source": [
    "- 4\n",
    "<img src=\"../Photo/28.png\"><img>"
   ]
  },
  {
   "cell_type": "code",
   "execution_count": 29,
   "metadata": {},
   "outputs": [
    {
     "name": "stdout",
     "output_type": "stream",
     "text": [
      "请输入边数5\n",
      "请输入正多边形的边长6.5\n",
      "正多边形的面积是：72.69017017488386\n"
     ]
    }
   ],
   "source": [
    "n=eval(input('请输入边数'))\n",
    "s=eval(input('请输入正多边形的边长'))\n",
    "Area=(n*s*s)/(4*(math.tan(math.pi/n)))\n",
    "print('正多边形的面积是：'+str(Area))"
   ]
  },
  {
   "cell_type": "markdown",
   "metadata": {},
   "source": [
    "- 5\n",
    "<img src=\"../Photo/29.png\"><img>\n",
    "<img src=\"../Photo/30.png\"><img>"
   ]
  },
  {
   "cell_type": "code",
   "execution_count": null,
   "metadata": {},
   "outputs": [],
   "source": []
  },
  {
   "cell_type": "code",
   "execution_count": 43,
   "metadata": {},
   "outputs": [
    {
     "name": "stdout",
     "output_type": "stream",
     "text": [
      "请输入一个0-127之间的整数69\n",
      "The character isE\n"
     ]
    }
   ],
   "source": [
    "num=int(input('请输入一个0-127之间的整数'))\n",
    "result=chr(num)\n",
    "print('The character is'+str(result))\n"
   ]
  },
  {
   "cell_type": "markdown",
   "metadata": {},
   "source": [
    "- 6\n",
    "<img src=\"../Photo/31.png\"><img>"
   ]
  },
  {
   "cell_type": "code",
   "execution_count": 46,
   "metadata": {},
   "outputs": [
    {
     "name": "stdout",
     "output_type": "stream",
     "text": [
      "姓名：黄晓桐\n",
      "一周工作时间10\n",
      "每小时报酬9.75\n",
      "联邦预扣税率0.2\n",
      "州预扣税率0.09\n",
      "一周工资：$97.5\n",
      "联邦扣税：(20.0%)$19.5\n",
      "州扣税：(9.0%)$8.775\n",
      "到手工资：$69.225\n"
     ]
    }
   ],
   "source": [
    "name=str(input('姓名：'))\n",
    "time=eval(input('一周工作时间')）\n",
    "rate=eval(input('每小时报酬'))\n",
    "federal=eval(input('联邦预扣税率'))\n",
    "state=eval(input('州预扣税率')\n",
    "money=time*rate\n",
    "x=money*federal\n",
    "y=money*state\n",
    "z=money-x-y\n",
    "print('姓名:'+str(name))\n",
    "print('一周工作时间：'+str(time))\n",
    "print('每小时报酬：$'+str(rate))\n",
    "print('一周工资：$'+str(money))\n",
    "print('联邦扣税：(20.0%)$'+str(x))\n",
    "print('州扣税：(9.0%)$'+str(y))\n",
    "print('到手工资：$'+str(z))"
   ]
  },
  {
   "cell_type": "markdown",
   "metadata": {},
   "source": [
    "- 7\n",
    "<img src=\"../Photo/32.png\"><img>"
   ]
  },
  {
   "cell_type": "markdown",
   "metadata": {},
   "source": [
    "- 8 进阶：\n",
    "> 加密一串文本，并将解密后的文件写入本地保存"
   ]
  }
 ],
 "metadata": {
  "kernelspec": {
   "display_name": "Python 3",
   "language": "python",
   "name": "python3"
  },
  "language_info": {
   "codemirror_mode": {
    "name": "ipython",
    "version": 3
   },
   "file_extension": ".py",
   "mimetype": "text/x-python",
   "name": "python",
   "nbconvert_exporter": "python",
   "pygments_lexer": "ipython3",
   "version": "3.6.4"
  }
 },
 "nbformat": 4,
 "nbformat_minor": 2
}
